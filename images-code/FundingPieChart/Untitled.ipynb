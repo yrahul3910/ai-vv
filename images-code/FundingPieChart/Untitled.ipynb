{
 "cells": [
  {
   "cell_type": "code",
   "execution_count": 58,
   "metadata": {},
   "outputs": [],
   "source": [
    "import pandas as pd\n",
    "import numpy as np\n",
    "import matplotlib.pyplot as plt\n",
    "\n",
    "plt.style.use('ggplot')"
   ]
  },
  {
   "cell_type": "code",
   "execution_count": 35,
   "metadata": {},
   "outputs": [],
   "source": [
    "# Source: https://scentellegher.github.io/visualization/2018/10/10/beautiful-bar-plots-matplotlib.html\n",
    "plt.rcParams['font.family'] = 'sans-serif'\n",
    "plt.rcParams['font.sans-serif'] = 'Helvetica'\n",
    "\n",
    "plt.rcParams['axes.edgecolor']='#333F4B'\n",
    "plt.rcParams['axes.linewidth']=0.8\n",
    "plt.rcParams['xtick.color']='#333F4B'\n",
    "plt.rcParams['ytick.color']='#333F4B'"
   ]
  },
  {
   "cell_type": "code",
   "execution_count": 2,
   "metadata": {},
   "outputs": [],
   "source": [
    "df = pd.read_csv('funding.csv')"
   ]
  },
  {
   "cell_type": "code",
   "execution_count": 3,
   "metadata": {},
   "outputs": [
    {
     "data": {
      "text/html": [
       "<div>\n",
       "<style scoped>\n",
       "    .dataframe tbody tr th:only-of-type {\n",
       "        vertical-align: middle;\n",
       "    }\n",
       "\n",
       "    .dataframe tbody tr th {\n",
       "        vertical-align: top;\n",
       "    }\n",
       "\n",
       "    .dataframe thead th {\n",
       "        text-align: right;\n",
       "    }\n",
       "</style>\n",
       "<table border=\"1\" class=\"dataframe\">\n",
       "  <thead>\n",
       "    <tr style=\"text-align: right;\">\n",
       "      <th></th>\n",
       "      <th>Authors</th>\n",
       "      <th>Title</th>\n",
       "      <th>Link</th>\n",
       "      <th>Venue</th>\n",
       "      <th>Cites</th>\n",
       "      <th>Year</th>\n",
       "      <th>Method</th>\n",
       "      <th>Comments</th>\n",
       "      <th>Funding</th>\n",
       "    </tr>\n",
       "  </thead>\n",
       "  <tbody>\n",
       "    <tr>\n",
       "      <td>0</td>\n",
       "      <td>Menzies, T., &amp; Pecheur, C.</td>\n",
       "      <td>Verification and validation and artificial int...</td>\n",
       "      <td>NaN</td>\n",
       "      <td>Advances in computers</td>\n",
       "      <td>60.0</td>\n",
       "      <td>2005.0</td>\n",
       "      <td>NaN</td>\n",
       "      <td>Discusses V&amp;V methods in SE and AI in general</td>\n",
       "      <td>NASA</td>\n",
       "    </tr>\n",
       "    <tr>\n",
       "      <td>1</td>\n",
       "      <td>Lakkaraju, H., Kamar, E., Caruana, R., &amp; Horvi...</td>\n",
       "      <td>Identifying unknown unknowns in the open world...</td>\n",
       "      <td>https://arxiv.org/pdf/1610.09064.pdf</td>\n",
       "      <td>AAAI Conference on Artificial Intelligence.</td>\n",
       "      <td>62.0</td>\n",
       "      <td>2017.0</td>\n",
       "      <td>DSP + multi-armed bandit formulation</td>\n",
       "      <td>NaN</td>\n",
       "      <td>NaN</td>\n",
       "    </tr>\n",
       "    <tr>\n",
       "      <td>2</td>\n",
       "      <td>Tjeng, V., Xiao, K., &amp; Tedrake, R.</td>\n",
       "      <td>Evaluating robustness of neural networks with ...</td>\n",
       "      <td>https://arxiv.org/pdf/1711.07356.pdf</td>\n",
       "      <td>arXiv</td>\n",
       "      <td>102.0</td>\n",
       "      <td>2017.0</td>\n",
       "      <td>MILP</td>\n",
       "      <td>Needs a closer read; kind of tangential; discu...</td>\n",
       "      <td>Lockheed, NSF</td>\n",
       "    </tr>\n",
       "    <tr>\n",
       "      <td>3</td>\n",
       "      <td>Kim, B., Gilmer, J., Wattenberg, M., &amp; Viégas, F.</td>\n",
       "      <td>Tcav: Relative concept importance testing with...</td>\n",
       "      <td>https://openreview.net/pdf?id=S1viikbCW</td>\n",
       "      <td>ICLR</td>\n",
       "      <td>17.0</td>\n",
       "      <td>2018.0</td>\n",
       "      <td>concept vectors at each layer for explanation</td>\n",
       "      <td>Really cool paper</td>\n",
       "      <td>NaN</td>\n",
       "    </tr>\n",
       "    <tr>\n",
       "      <td>4</td>\n",
       "      <td>Uesato, J., Kumar, A., Szepesvari, C., Erez, T...</td>\n",
       "      <td>Rigorous agent evaluation: An adversarial appr...</td>\n",
       "      <td>https://arxiv.org/pdf/1812.01647.pdf</td>\n",
       "      <td>arXiv</td>\n",
       "      <td>3.0</td>\n",
       "      <td>2018.0</td>\n",
       "      <td>use earlier iteration data to predict risk of ...</td>\n",
       "      <td>NaN</td>\n",
       "      <td>NaN</td>\n",
       "    </tr>\n",
       "  </tbody>\n",
       "</table>\n",
       "</div>"
      ],
      "text/plain": [
       "                                             Authors  \\\n",
       "0                         Menzies, T., & Pecheur, C.   \n",
       "1  Lakkaraju, H., Kamar, E., Caruana, R., & Horvi...   \n",
       "2                 Tjeng, V., Xiao, K., & Tedrake, R.   \n",
       "3  Kim, B., Gilmer, J., Wattenberg, M., & Viégas, F.   \n",
       "4  Uesato, J., Kumar, A., Szepesvari, C., Erez, T...   \n",
       "\n",
       "                                               Title  \\\n",
       "0  Verification and validation and artificial int...   \n",
       "1  Identifying unknown unknowns in the open world...   \n",
       "2  Evaluating robustness of neural networks with ...   \n",
       "3  Tcav: Relative concept importance testing with...   \n",
       "4  Rigorous agent evaluation: An adversarial appr...   \n",
       "\n",
       "                                      Link  \\\n",
       "0                                      NaN   \n",
       "1     https://arxiv.org/pdf/1610.09064.pdf   \n",
       "2     https://arxiv.org/pdf/1711.07356.pdf   \n",
       "3  https://openreview.net/pdf?id=S1viikbCW   \n",
       "4     https://arxiv.org/pdf/1812.01647.pdf   \n",
       "\n",
       "                                         Venue  Cites    Year  \\\n",
       "0                        Advances in computers   60.0  2005.0   \n",
       "1  AAAI Conference on Artificial Intelligence.   62.0  2017.0   \n",
       "2                                        arXiv  102.0  2017.0   \n",
       "3                                         ICLR   17.0  2018.0   \n",
       "4                                        arXiv    3.0  2018.0   \n",
       "\n",
       "                                              Method  \\\n",
       "0                                                NaN   \n",
       "1               DSP + multi-armed bandit formulation   \n",
       "2                                               MILP   \n",
       "3      concept vectors at each layer for explanation   \n",
       "4  use earlier iteration data to predict risk of ...   \n",
       "\n",
       "                                            Comments        Funding  \n",
       "0      Discusses V&V methods in SE and AI in general           NASA  \n",
       "1                                                NaN            NaN  \n",
       "2  Needs a closer read; kind of tangential; discu...  Lockheed, NSF  \n",
       "3                                  Really cool paper            NaN  \n",
       "4                                                NaN            NaN  "
      ]
     },
     "execution_count": 3,
     "metadata": {},
     "output_type": "execute_result"
    }
   ],
   "source": [
    "df.head()"
   ]
  },
  {
   "cell_type": "code",
   "execution_count": 14,
   "metadata": {},
   "outputs": [],
   "source": [
    "funding = df['Funding']"
   ]
  },
  {
   "cell_type": "code",
   "execution_count": 15,
   "metadata": {},
   "outputs": [],
   "source": [
    "funding = funding[funding.notna()]"
   ]
  },
  {
   "cell_type": "code",
   "execution_count": 16,
   "metadata": {},
   "outputs": [],
   "source": [
    "funding = [x.split(', ') for x in funding]"
   ]
  },
  {
   "cell_type": "code",
   "execution_count": 18,
   "metadata": {},
   "outputs": [],
   "source": [
    "# From https://stackoverflow.com/a/952952/2713263\n",
    "funding = [item for sublist in funding for item in sublist]"
   ]
  },
  {
   "cell_type": "code",
   "execution_count": 54,
   "metadata": {},
   "outputs": [],
   "source": [
    "xy = { x: sum([y == x for y in funding]) for x in funding if x != 'Entirely non-US' }"
   ]
  },
  {
   "cell_type": "code",
   "execution_count": 55,
   "metadata": {},
   "outputs": [],
   "source": [
    "x = sorted(xy, key=lambda x: xy[x])\n",
    "y = [xy[i] for i in x]"
   ]
  },
  {
   "cell_type": "code",
   "execution_count": 70,
   "metadata": {},
   "outputs": [],
   "source": [
    "idx = np.where(np.array(y) > 1)[0][0]  # where does it stop being 1"
   ]
  },
  {
   "cell_type": "code",
   "execution_count": 71,
   "metadata": {},
   "outputs": [
    {
     "data": {
      "text/plain": [
       "29"
      ]
     },
     "execution_count": 71,
     "metadata": {},
     "output_type": "execute_result"
    }
   ],
   "source": [
    "idx"
   ]
  },
  {
   "cell_type": "code",
   "execution_count": 77,
   "metadata": {},
   "outputs": [
    {
     "data": {
      "text/plain": [
       "<BarContainer object of 16 artists>"
      ]
     },
     "execution_count": 77,
     "metadata": {},
     "output_type": "execute_result"
    },
    {
     "data": {
      "image/png": "[encoded data removed]",
      "text/plain": [
       "<Figure size 432x432 with 1 Axes>"
      ]
     },
     "metadata": {},
     "output_type": "display_data"
    }
   ],
   "source": [
    "plt.figure(figsize=(6,6))\n",
    "plt.barh(x[idx:], y[idx:], alpha=0.6)"
   ]
  },
  {
   "cell_type": "code",
   "execution_count": null,
   "metadata": {},
   "outputs": [],
   "source": []
  }
 ],
 "metadata": {
  "kernelspec": {
   "display_name": "Python 3",
   "language": "python",
   "name": "python3"
  },
  "language_info": {
   "codemirror_mode": {
    "name": "ipython",
    "version": 3
   },
   "file_extension": ".py",
   "mimetype": "text/x-python",
   "name": "python",
   "nbconvert_exporter": "python",
   "pygments_lexer": "ipython3",
   "version": "3.7.4"
  }
 },
 "nbformat": 4,
 "nbformat_minor": 2
}
