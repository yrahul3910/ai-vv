{
 "cells": [
  {
   "cell_type": "code",
   "execution_count": 1,
   "metadata": {},
   "outputs": [],
   "source": [
    "import numpy as np\n",
    "import pandas as pd\n",
    "import matplotlib.pyplot as plt\n",
    "import seaborn as sns"
   ]
  },
  {
   "cell_type": "code",
   "execution_count": 2,
   "metadata": {},
   "outputs": [],
   "source": [
    "# Source: https://scentellegher.github.io/visualization/2018/10/10/beautiful-bar-plots-matplotlib.html\n",
    "plt.rcParams['font.family'] = 'sans-serif'\n",
    "plt.rcParams['font.sans-serif'] = 'Helvetica'\n",
    "\n",
    "plt.rcParams['axes.edgecolor']='#333F4B'\n",
    "plt.rcParams['axes.linewidth']=0.8\n",
    "plt.rcParams['xtick.color']='#333F4B'\n",
    "plt.rcParams['ytick.color']='#333F4B'\n",
    "plt.style.use('ggplot')"
   ]
  },
  {
   "cell_type": "code",
   "execution_count": 3,
   "metadata": {},
   "outputs": [],
   "source": [
    "df = pd.read_csv('topics.csv')"
   ]
  },
  {
   "cell_type": "code",
   "execution_count": 4,
   "metadata": {},
   "outputs": [
    {
     "data": {
      "text/html": [
       "<div>\n",
       "<style scoped>\n",
       "    .dataframe tbody tr th:only-of-type {\n",
       "        vertical-align: middle;\n",
       "    }\n",
       "\n",
       "    .dataframe tbody tr th {\n",
       "        vertical-align: top;\n",
       "    }\n",
       "\n",
       "    .dataframe thead th {\n",
       "        text-align: right;\n",
       "    }\n",
       "</style>\n",
       "<table border=\"1\" class=\"dataframe\">\n",
       "  <thead>\n",
       "    <tr style=\"text-align: right;\">\n",
       "      <th></th>\n",
       "      <th>Authors</th>\n",
       "      <th>Title</th>\n",
       "      <th>Link</th>\n",
       "      <th>Venue</th>\n",
       "      <th>Cites</th>\n",
       "      <th>Year</th>\n",
       "      <th>Method</th>\n",
       "      <th>Topics</th>\n",
       "      <th>Comments</th>\n",
       "      <th>Funding</th>\n",
       "      <th>Unnamed: 10</th>\n",
       "    </tr>\n",
       "  </thead>\n",
       "  <tbody>\n",
       "    <tr>\n",
       "      <td>0</td>\n",
       "      <td>Menzies, T., &amp; Pecheur, C.</td>\n",
       "      <td>Verification and validation and artificial int...</td>\n",
       "      <td>NaN</td>\n",
       "      <td>Advances in computers</td>\n",
       "      <td>60</td>\n",
       "      <td>2005</td>\n",
       "      <td>NaN</td>\n",
       "      <td>NaN</td>\n",
       "      <td>Discusses V&amp;V methods in SE and AI in general</td>\n",
       "      <td>NASA</td>\n",
       "      <td>NaN</td>\n",
       "    </tr>\n",
       "    <tr>\n",
       "      <td>1</td>\n",
       "      <td>Lakkaraju, H., Kamar, E., Caruana, R., &amp; Horvi...</td>\n",
       "      <td>Identifying unknown unknowns in the open world...</td>\n",
       "      <td>https://arxiv.org/pdf/1610.09064.pdf</td>\n",
       "      <td>AAAI Conference on Artificial Intelligence.</td>\n",
       "      <td>62</td>\n",
       "      <td>2017</td>\n",
       "      <td>DSP + multi-armed bandit formulation</td>\n",
       "      <td>DSP, multi-armed bandit</td>\n",
       "      <td>NaN</td>\n",
       "      <td>NaN</td>\n",
       "      <td>NaN</td>\n",
       "    </tr>\n",
       "    <tr>\n",
       "      <td>2</td>\n",
       "      <td>Tjeng, V., Xiao, K., &amp; Tedrake, R.</td>\n",
       "      <td>Evaluating robustness of neural networks with ...</td>\n",
       "      <td>https://arxiv.org/pdf/1711.07356.pdf</td>\n",
       "      <td>arXiv</td>\n",
       "      <td>102</td>\n",
       "      <td>2017</td>\n",
       "      <td>MILP</td>\n",
       "      <td>MILP</td>\n",
       "      <td>Needs a closer read; kind of tangential; discu...</td>\n",
       "      <td>Lockheed Martin Corporation and NSF</td>\n",
       "      <td>NaN</td>\n",
       "    </tr>\n",
       "    <tr>\n",
       "      <td>3</td>\n",
       "      <td>Kim, B., Gilmer, J., Wattenberg, M., &amp; Viégas, F.</td>\n",
       "      <td>Tcav: Relative concept importance testing with...</td>\n",
       "      <td>https://openreview.net/pdf?id=S1viikbCW</td>\n",
       "      <td>ICLR</td>\n",
       "      <td>17</td>\n",
       "      <td>2018</td>\n",
       "      <td>concept vectors at each layer for explanation</td>\n",
       "      <td>concept vectors</td>\n",
       "      <td>Really cool paper</td>\n",
       "      <td>NaN</td>\n",
       "      <td>NaN</td>\n",
       "    </tr>\n",
       "    <tr>\n",
       "      <td>4</td>\n",
       "      <td>Uesato, J., Kumar, A., Szepesvari, C., Erez, T...</td>\n",
       "      <td>Rigorous agent evaluation: An adversarial appr...</td>\n",
       "      <td>https://arxiv.org/pdf/1812.01647.pdf</td>\n",
       "      <td>arXiv</td>\n",
       "      <td>3</td>\n",
       "      <td>2018</td>\n",
       "      <td>use earlier iteration data to predict risk of ...</td>\n",
       "      <td>historical data</td>\n",
       "      <td>NaN</td>\n",
       "      <td>NaN</td>\n",
       "      <td>NaN</td>\n",
       "    </tr>\n",
       "  </tbody>\n",
       "</table>\n",
       "</div>"
      ],
      "text/plain": [
       "                                             Authors  \\\n",
       "0                         Menzies, T., & Pecheur, C.   \n",
       "1  Lakkaraju, H., Kamar, E., Caruana, R., & Horvi...   \n",
       "2                 Tjeng, V., Xiao, K., & Tedrake, R.   \n",
       "3  Kim, B., Gilmer, J., Wattenberg, M., & Viégas, F.   \n",
       "4  Uesato, J., Kumar, A., Szepesvari, C., Erez, T...   \n",
       "\n",
       "                                               Title  \\\n",
       "0  Verification and validation and artificial int...   \n",
       "1  Identifying unknown unknowns in the open world...   \n",
       "2  Evaluating robustness of neural networks with ...   \n",
       "3  Tcav: Relative concept importance testing with...   \n",
       "4  Rigorous agent evaluation: An adversarial appr...   \n",
       "\n",
       "                                      Link  \\\n",
       "0                                      NaN   \n",
       "1     https://arxiv.org/pdf/1610.09064.pdf   \n",
       "2     https://arxiv.org/pdf/1711.07356.pdf   \n",
       "3  https://openreview.net/pdf?id=S1viikbCW   \n",
       "4     https://arxiv.org/pdf/1812.01647.pdf   \n",
       "\n",
       "                                         Venue  Cites  Year  \\\n",
       "0                        Advances in computers     60  2005   \n",
       "1  AAAI Conference on Artificial Intelligence.     62  2017   \n",
       "2                                        arXiv    102  2017   \n",
       "3                                         ICLR     17  2018   \n",
       "4                                        arXiv      3  2018   \n",
       "\n",
       "                                              Method                   Topics  \\\n",
       "0                                                NaN                      NaN   \n",
       "1               DSP + multi-armed bandit formulation  DSP, multi-armed bandit   \n",
       "2                                               MILP                     MILP   \n",
       "3      concept vectors at each layer for explanation          concept vectors   \n",
       "4  use earlier iteration data to predict risk of ...          historical data   \n",
       "\n",
       "                                            Comments  \\\n",
       "0      Discusses V&V methods in SE and AI in general   \n",
       "1                                                NaN   \n",
       "2  Needs a closer read; kind of tangential; discu...   \n",
       "3                                  Really cool paper   \n",
       "4                                                NaN   \n",
       "\n",
       "                               Funding  Unnamed: 10  \n",
       "0                                 NASA          NaN  \n",
       "1                                  NaN          NaN  \n",
       "2  Lockheed Martin Corporation and NSF          NaN  \n",
       "3                                  NaN          NaN  \n",
       "4                                  NaN          NaN  "
      ]
     },
     "execution_count": 4,
     "metadata": {},
     "output_type": "execute_result"
    }
   ],
   "source": [
    "df.head()"
   ]
  },
  {
   "cell_type": "code",
   "execution_count": 5,
   "metadata": {},
   "outputs": [],
   "source": [
    "topics = df[['Topics', 'Year']]"
   ]
  },
  {
   "cell_type": "code",
   "execution_count": 6,
   "metadata": {},
   "outputs": [],
   "source": [
    "topics = topics[topics['Topics'].notna()]"
   ]
  },
  {
   "cell_type": "code",
   "execution_count": 7,
   "metadata": {},
   "outputs": [
    {
     "data": {
      "text/html": [
       "<div>\n",
       "<style scoped>\n",
       "    .dataframe tbody tr th:only-of-type {\n",
       "        vertical-align: middle;\n",
       "    }\n",
       "\n",
       "    .dataframe tbody tr th {\n",
       "        vertical-align: top;\n",
       "    }\n",
       "\n",
       "    .dataframe thead th {\n",
       "        text-align: right;\n",
       "    }\n",
       "</style>\n",
       "<table border=\"1\" class=\"dataframe\">\n",
       "  <thead>\n",
       "    <tr style=\"text-align: right;\">\n",
       "      <th></th>\n",
       "      <th>Topics</th>\n",
       "      <th>Year</th>\n",
       "    </tr>\n",
       "  </thead>\n",
       "  <tbody>\n",
       "    <tr>\n",
       "      <td>1</td>\n",
       "      <td>DSP, multi-armed bandit</td>\n",
       "      <td>2017</td>\n",
       "    </tr>\n",
       "    <tr>\n",
       "      <td>2</td>\n",
       "      <td>MILP</td>\n",
       "      <td>2017</td>\n",
       "    </tr>\n",
       "    <tr>\n",
       "      <td>3</td>\n",
       "      <td>concept vectors</td>\n",
       "      <td>2018</td>\n",
       "    </tr>\n",
       "    <tr>\n",
       "      <td>4</td>\n",
       "      <td>historical data</td>\n",
       "      <td>2018</td>\n",
       "    </tr>\n",
       "    <tr>\n",
       "      <td>5</td>\n",
       "      <td>SAT solver, marabou</td>\n",
       "      <td>2019</td>\n",
       "    </tr>\n",
       "    <tr>\n",
       "      <td>...</td>\n",
       "      <td>...</td>\n",
       "      <td>...</td>\n",
       "    </tr>\n",
       "    <tr>\n",
       "      <td>119</td>\n",
       "      <td>rule-based method</td>\n",
       "      <td>1997</td>\n",
       "    </tr>\n",
       "    <tr>\n",
       "      <td>120</td>\n",
       "      <td>rule-based method</td>\n",
       "      <td>1993</td>\n",
       "    </tr>\n",
       "    <tr>\n",
       "      <td>121</td>\n",
       "      <td>rule-based method</td>\n",
       "      <td>1992</td>\n",
       "    </tr>\n",
       "    <tr>\n",
       "      <td>122</td>\n",
       "      <td>mutation testing</td>\n",
       "      <td>1992</td>\n",
       "    </tr>\n",
       "    <tr>\n",
       "      <td>128</td>\n",
       "      <td>ALU</td>\n",
       "      <td>1987</td>\n",
       "    </tr>\n",
       "  </tbody>\n",
       "</table>\n",
       "<p>90 rows × 2 columns</p>\n",
       "</div>"
      ],
      "text/plain": [
       "                      Topics  Year\n",
       "1    DSP, multi-armed bandit  2017\n",
       "2                       MILP  2017\n",
       "3            concept vectors  2018\n",
       "4            historical data  2018\n",
       "5        SAT solver, marabou  2019\n",
       "..                       ...   ...\n",
       "119        rule-based method  1997\n",
       "120        rule-based method  1993\n",
       "121        rule-based method  1992\n",
       "122         mutation testing  1992\n",
       "128                      ALU  1987\n",
       "\n",
       "[90 rows x 2 columns]"
      ]
     },
     "execution_count": 7,
     "metadata": {},
     "output_type": "execute_result"
    }
   ],
   "source": [
    "topics"
   ]
  },
  {
   "cell_type": "code",
   "execution_count": 9,
   "metadata": {},
   "outputs": [],
   "source": [
    "t = {}\n",
    "for _, row in topics.iterrows():\n",
    "    for topic in row['Topics'].split(', '):\n",
    "        if int(row['Year']) in t:\n",
    "            t[int(row['Year'])].append(topic)\n",
    "        else:\n",
    "            t[int(row['Year'])] = [topic]"
   ]
  },
  {
   "cell_type": "code",
   "execution_count": 10,
   "metadata": {},
   "outputs": [
    {
     "data": {
      "text/plain": [
       "{2017: ['DSP',\n",
       "  'multi-armed bandit',\n",
       "  'MILP',\n",
       "  'simplex',\n",
       "  'NN',\n",
       "  'new loss',\n",
       "  'MILP',\n",
       "  'MILP',\n",
       "  'SAT',\n",
       "  'LP',\n",
       "  'optimization',\n",
       "  'transformation',\n",
       "  'randomization',\n",
       "  'pixelcnn',\n",
       "  'theorem prover',\n",
       "  'reluplex',\n",
       "  'clustering',\n",
       "  'reluplex',\n",
       "  'PGD',\n",
       "  'SGD',\n",
       "  'backpropagation',\n",
       "  'sampling',\n",
       "  'visualization',\n",
       "  'LTL',\n",
       "  'NN',\n",
       "  'metamorphic testing'],\n",
       " 2018: ['concept vectors',\n",
       "  'historical data',\n",
       "  'optimization',\n",
       "  'NN',\n",
       "  'branch and bound',\n",
       "  'MILP',\n",
       "  'search',\n",
       "  'MILP',\n",
       "  'optimization',\n",
       "  'dropout',\n",
       "  'gan',\n",
       "  'reluplex',\n",
       "  'abstract interpretation',\n",
       "  'optimization',\n",
       "  'PGD',\n",
       "  'PGD',\n",
       "  'visualization',\n",
       "  'QP',\n",
       "  'MDP',\n",
       "  'metamorphic testing',\n",
       "  'transformation',\n",
       "  'optimization',\n",
       "  'optimizaion',\n",
       "  'metamorphic testing',\n",
       "  'genetic algorithm',\n",
       "  'reinforcement learning',\n",
       "  'ontology'],\n",
       " 2019: ['SAT solver',\n",
       "  'marabou',\n",
       "  'build dataset',\n",
       "  'new loss',\n",
       "  'build dataset',\n",
       "  'marabou',\n",
       "  'surprise',\n",
       "  'statistical test',\n",
       "  'formal method',\n",
       "  'reinforcement learning',\n",
       "  'planning',\n",
       "  'scheduling',\n",
       "  'test agent',\n",
       "  'metamorphic testing',\n",
       "  'ontology',\n",
       "  'planning'],\n",
       " 2013: ['L-BFGS'],\n",
       " 2010: ['SAT', 'ontology', 'verification'],\n",
       " 2016: ['pictures',\n",
       "  'approximation',\n",
       "  'optimization',\n",
       "  'statistical test',\n",
       "  'symbolic method',\n",
       "  'probabilistic localization'],\n",
       " 2015: ['fuzzy logic'],\n",
       " 2014: ['ontology', 'optimization', 'ontology'],\n",
       " 2012: ['reinforcement learning'],\n",
       " 2009: ['model-based testing', 'human-machine interaction'],\n",
       " 2008: ['ontology', 'approximation'],\n",
       " 2006: ['ontology', 'VKB'],\n",
       " 2005: ['genetic algorithm',\n",
       "  'statistical test',\n",
       "  'turing test',\n",
       "  'sensitivity analysis'],\n",
       " 2004: ['bayesian knowledge base', 'turing test'],\n",
       " 2001: ['rule-based method'],\n",
       " 1999: ['formal method'],\n",
       " 1997: ['qualitative analysis', 'rule-based method'],\n",
       " 1993: ['rule-based method'],\n",
       " 1992: ['rule-based method', 'mutation testing'],\n",
       " 1987: ['ALU']}"
      ]
     },
     "execution_count": 10,
     "metadata": {},
     "output_type": "execute_result"
    }
   ],
   "source": [
    "t"
   ]
  },
  {
   "cell_type": "code",
   "execution_count": 11,
   "metadata": {},
   "outputs": [],
   "source": [
    "topic_list = []\n",
    "for value in t.values():\n",
    "    topic_list += value"
   ]
  },
  {
   "cell_type": "code",
   "execution_count": 12,
   "metadata": {},
   "outputs": [],
   "source": [
    "xy = { x: sum([y == x for y in topic_list]) for x in topic_list }"
   ]
  },
  {
   "cell_type": "code",
   "execution_count": 13,
   "metadata": {},
   "outputs": [],
   "source": [
    "x = sorted(xy, key=lambda x: xy[x])\n",
    "y = [xy[i] for i in x]"
   ]
  },
  {
   "cell_type": "code",
   "execution_count": 15,
   "metadata": {},
   "outputs": [],
   "source": [
    "idx = np.where(np.array(y) > 2)[0][0]"
   ]
  },
  {
   "cell_type": "code",
   "execution_count": 17,
   "metadata": {},
   "outputs": [
    {
     "data": {
      "text/plain": [
       "['NN',\n",
       " 'reluplex',\n",
       " 'PGD',\n",
       " 'reinforcement learning',\n",
       " 'statistical test',\n",
       " 'metamorphic testing',\n",
       " 'rule-based method',\n",
       " 'MILP',\n",
       " 'optimization',\n",
       " 'ontology']"
      ]
     },
     "execution_count": 17,
     "metadata": {},
     "output_type": "execute_result"
    }
   ],
   "source": [
    "x[idx:]"
   ]
  },
  {
   "cell_type": "code",
   "execution_count": 18,
   "metadata": {},
   "outputs": [
    {
     "data": {
      "image/png": "[encoded data removed]",
      "text/plain": [
       "<Figure size 432x432 with 1 Axes>"
      ]
     },
     "metadata": {},
     "output_type": "display_data"
    }
   ],
   "source": [
    "plt.figure(figsize=(6,6))\n",
    "plt.barh(x[idx:], y[idx:], alpha=0.6);"
   ]
  },
  {
   "cell_type": "code",
   "execution_count": 19,
   "metadata": {},
   "outputs": [],
   "source": [
    "years = []\n",
    "for key in t:\n",
    "    for term in x[idx:]:\n",
    "        if term in t[key]:\n",
    "            years.append(key)"
   ]
  },
  {
   "cell_type": "code",
   "execution_count": 20,
   "metadata": {},
   "outputs": [
    {
     "data": {
      "text/plain": [
       "{1992,\n",
       " 1993,\n",
       " 1997,\n",
       " 2001,\n",
       " 2005,\n",
       " 2006,\n",
       " 2008,\n",
       " 2010,\n",
       " 2012,\n",
       " 2014,\n",
       " 2016,\n",
       " 2017,\n",
       " 2018,\n",
       " 2019}"
      ]
     },
     "execution_count": 20,
     "metadata": {},
     "output_type": "execute_result"
    }
   ],
   "source": [
    "set(years)"
   ]
  },
  {
   "cell_type": "markdown",
   "metadata": {},
   "source": [
    "We can group this into:  \n",
    "\n",
    "* 1992-97\n",
    "* 2001-06\n",
    "* 2008-12\n",
    "* 2014-19"
   ]
  },
  {
   "cell_type": "code",
   "execution_count": 21,
   "metadata": {},
   "outputs": [],
   "source": [
    "groups = [\n",
    "    (1992, 1998),\n",
    "    (2001, 2007),\n",
    "    (2008, 2013),\n",
    "    (2014, 2020)\n",
    "]"
   ]
  },
  {
   "cell_type": "code",
   "execution_count": 22,
   "metadata": {},
   "outputs": [],
   "source": [
    "# Generate a map to indices\n",
    "tmap = { x[idx:][::-1][i]: i for i in range(len(x[idx:])) }"
   ]
  },
  {
   "cell_type": "code",
   "execution_count": 23,
   "metadata": {},
   "outputs": [
    {
     "data": {
      "text/plain": [
       "{'ontology': 0,\n",
       " 'optimization': 1,\n",
       " 'MILP': 2,\n",
       " 'rule-based method': 3,\n",
       " 'metamorphic testing': 4,\n",
       " 'statistical test': 5,\n",
       " 'reinforcement learning': 6,\n",
       " 'PGD': 7,\n",
       " 'reluplex': 8,\n",
       " 'NN': 9}"
      ]
     },
     "execution_count": 23,
     "metadata": {},
     "output_type": "execute_result"
    }
   ],
   "source": [
    "tmap"
   ]
  },
  {
   "cell_type": "code",
   "execution_count": 24,
   "metadata": {},
   "outputs": [],
   "source": [
    "arr = np.zeros((10, 4))\n",
    "\n",
    "# For each year\n",
    "for year in t:\n",
    "    # For each year-group\n",
    "    for i, group in enumerate(groups):\n",
    "        # If this is a year we're interested in\n",
    "        if year in range(*group):\n",
    "            # Go over all the topics in that year\n",
    "            for topic in t[year]:\n",
    "                # If this is a topic we're interested in\n",
    "                if topic in tmap.keys():\n",
    "                    # Add it\n",
    "                    arr[tmap[topic]][i] += 1"
   ]
  },
  {
   "cell_type": "code",
   "execution_count": 25,
   "metadata": {},
   "outputs": [
    {
     "data": {
      "text/plain": [
       "<matplotlib.image.AxesImage at 0x124949850>"
      ]
     },
     "execution_count": 25,
     "metadata": {},
     "output_type": "execute_result"
    },
    {
     "data": {
      "image/png": "[encoded data removed]",
      "text/plain": [
       "<Figure size 432x288 with 1 Axes>"
      ]
     },
     "metadata": {},
     "output_type": "display_data"
    }
   ],
   "source": [
    "plt.imshow(arr)"
   ]
  },
  {
   "cell_type": "code",
   "execution_count": 32,
   "metadata": {},
   "outputs": [],
   "source": [
    "map_df = pd.DataFrame(arr, index=tmap.keys(), columns=['-'.join([str(y) for y in x]) for x in groups])"
   ]
  },
  {
   "cell_type": "code",
   "execution_count": 33,
   "metadata": {},
   "outputs": [
    {
     "data": {
      "text/html": [
       "<div>\n",
       "<style scoped>\n",
       "    .dataframe tbody tr th:only-of-type {\n",
       "        vertical-align: middle;\n",
       "    }\n",
       "\n",
       "    .dataframe tbody tr th {\n",
       "        vertical-align: top;\n",
       "    }\n",
       "\n",
       "    .dataframe thead th {\n",
       "        text-align: right;\n",
       "    }\n",
       "</style>\n",
       "<table border=\"1\" class=\"dataframe\">\n",
       "  <thead>\n",
       "    <tr style=\"text-align: right;\">\n",
       "      <th></th>\n",
       "      <th>1992-1998</th>\n",
       "      <th>2001-2007</th>\n",
       "      <th>2008-2013</th>\n",
       "      <th>2014-2020</th>\n",
       "    </tr>\n",
       "  </thead>\n",
       "  <tbody>\n",
       "    <tr>\n",
       "      <td>ontology</td>\n",
       "      <td>0.0</td>\n",
       "      <td>1.0</td>\n",
       "      <td>2.0</td>\n",
       "      <td>4.0</td>\n",
       "    </tr>\n",
       "    <tr>\n",
       "      <td>optimization</td>\n",
       "      <td>0.0</td>\n",
       "      <td>0.0</td>\n",
       "      <td>0.0</td>\n",
       "      <td>7.0</td>\n",
       "    </tr>\n",
       "    <tr>\n",
       "      <td>MILP</td>\n",
       "      <td>0.0</td>\n",
       "      <td>0.0</td>\n",
       "      <td>0.0</td>\n",
       "      <td>5.0</td>\n",
       "    </tr>\n",
       "    <tr>\n",
       "      <td>rule-based method</td>\n",
       "      <td>3.0</td>\n",
       "      <td>1.0</td>\n",
       "      <td>0.0</td>\n",
       "      <td>0.0</td>\n",
       "    </tr>\n",
       "    <tr>\n",
       "      <td>metamorphic testing</td>\n",
       "      <td>0.0</td>\n",
       "      <td>0.0</td>\n",
       "      <td>0.0</td>\n",
       "      <td>4.0</td>\n",
       "    </tr>\n",
       "    <tr>\n",
       "      <td>statistical test</td>\n",
       "      <td>0.0</td>\n",
       "      <td>1.0</td>\n",
       "      <td>0.0</td>\n",
       "      <td>2.0</td>\n",
       "    </tr>\n",
       "    <tr>\n",
       "      <td>reinforcement learning</td>\n",
       "      <td>0.0</td>\n",
       "      <td>0.0</td>\n",
       "      <td>1.0</td>\n",
       "      <td>2.0</td>\n",
       "    </tr>\n",
       "    <tr>\n",
       "      <td>PGD</td>\n",
       "      <td>0.0</td>\n",
       "      <td>0.0</td>\n",
       "      <td>0.0</td>\n",
       "      <td>3.0</td>\n",
       "    </tr>\n",
       "    <tr>\n",
       "      <td>reluplex</td>\n",
       "      <td>0.0</td>\n",
       "      <td>0.0</td>\n",
       "      <td>0.0</td>\n",
       "      <td>3.0</td>\n",
       "    </tr>\n",
       "    <tr>\n",
       "      <td>NN</td>\n",
       "      <td>0.0</td>\n",
       "      <td>0.0</td>\n",
       "      <td>0.0</td>\n",
       "      <td>3.0</td>\n",
       "    </tr>\n",
       "  </tbody>\n",
       "</table>\n",
       "</div>"
      ],
      "text/plain": [
       "                        1992-1998  2001-2007  2008-2013  2014-2020\n",
       "ontology                      0.0        1.0        2.0        4.0\n",
       "optimization                  0.0        0.0        0.0        7.0\n",
       "MILP                          0.0        0.0        0.0        5.0\n",
       "rule-based method             3.0        1.0        0.0        0.0\n",
       "metamorphic testing           0.0        0.0        0.0        4.0\n",
       "statistical test              0.0        1.0        0.0        2.0\n",
       "reinforcement learning        0.0        0.0        1.0        2.0\n",
       "PGD                           0.0        0.0        0.0        3.0\n",
       "reluplex                      0.0        0.0        0.0        3.0\n",
       "NN                            0.0        0.0        0.0        3.0"
      ]
     },
     "execution_count": 33,
     "metadata": {},
     "output_type": "execute_result"
    }
   ],
   "source": [
    "map_df"
   ]
  },
  {
   "cell_type": "code",
   "execution_count": 36,
   "metadata": {},
   "outputs": [
    {
     "data": {
      "image/png": "[encoded data removed]",
      "text/plain": [
       "<Figure size 432x288 with 2 Axes>"
      ]
     },
     "metadata": {},
     "output_type": "display_data"
    }
   ],
   "source": [
    "sns.heatmap(map_df, cmap='YlOrRd');"
   ]
  },
  {
   "cell_type": "code",
   "execution_count": null,
   "metadata": {},
   "outputs": [],
   "source": []
  }
 ],
 "metadata": {
  "kernelspec": {
   "display_name": "Python 3",
   "language": "python",
   "name": "python3"
  },
  "language_info": {
   "codemirror_mode": {
    "name": "ipython",
    "version": 3
   },
   "file_extension": ".py",
   "mimetype": "text/x-python",
   "name": "python",
   "nbconvert_exporter": "python",
   "pygments_lexer": "ipython3",
   "version": "3.7.4"
  }
 },
 "nbformat": 4,
 "nbformat_minor": 2
}
